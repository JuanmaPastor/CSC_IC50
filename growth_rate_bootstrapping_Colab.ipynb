{
  "cells": [
    {
      "cell_type": "markdown",
      "metadata": {
        "id": "view-in-github",
        "colab_type": "text"
      },
      "source": [
        "<a href=\"https://colab.research.google.com/github/JuanmaPastor/CSC_IC50/blob/main/growth_rate_bootstrapping_Colab.ipynb\" target=\"_parent\"><img src=\"https://colab.research.google.com/assets/colab-badge.svg\" alt=\"Open In Colab\"/></a>"
      ]
    },
    {
      "cell_type": "code",
      "source": [
        "from google.colab import drive ##\n",
        "drive.mount('/content/drive')  ## Choose the Google account whose Drive you want to mount --> \"Sign in to Google Drive for desktop\" --> \"Make sure you trust Google Drive for desktop\" (you must allow Google Drive to access your data for use in the program)\n",
        "%cd 'drive/MyDrive/Colab Notebooks'"
      ],
      "metadata": {
        "id": "omj2KER7skto"
      },
      "id": "omj2KER7skto",
      "execution_count": null,
      "outputs": []
    },
    {
      "cell_type": "markdown",
      "source": [
        "## If you want to upload a file, execute the following cell\n"
      ],
      "metadata": {
        "id": "XAcwfwsWK8iA"
      },
      "id": "XAcwfwsWK8iA"
    },
    {
      "cell_type": "code",
      "source": [
        "### Execute this cell only if you want to upload a file\n",
        "from google.colab import files\n",
        "uploaded = files.upload()"
      ],
      "metadata": {
        "id": "BbfswAFHxB71"
      },
      "id": "BbfswAFHxB71",
      "execution_count": null,
      "outputs": []
    },
    {
      "cell_type": "code",
      "source": [
        "%ls ## check that your data file is located in this directory"
      ],
      "metadata": {
        "collapsed": true,
        "id": "11XUqtekuzgQ"
      },
      "id": "11XUqtekuzgQ",
      "execution_count": null,
      "outputs": []
    },
    {
      "cell_type": "code",
      "source": [
        "filename = input(\"Excel filename:\")"
      ],
      "metadata": {
        "id": "kcZ-D78Bx_yl"
      },
      "id": "kcZ-D78Bx_yl",
      "execution_count": null,
      "outputs": []
    },
    {
      "cell_type": "code",
      "source": [
        "n_sheets = input(\"Number of sheets in the Excel File (number of time points):\")"
      ],
      "metadata": {
        "id": "SjxpYWNlyea8"
      },
      "id": "SjxpYWNlyea8",
      "execution_count": null,
      "outputs": []
    },
    {
      "cell_type": "markdown",
      "source": [
        "## [Now from \"Runtime\" menu you can select \"*Run cell and below*\"]\n"
      ],
      "metadata": {
        "id": "OVxK3JiEHd9k"
      },
      "id": "OVxK3JiEHd9k"
    },
    {
      "cell_type": "code",
      "execution_count": null,
      "metadata": {
        "id": "WRU9uH3NshTC"
      },
      "outputs": [],
      "source": [
        "# Import necessary libraries\n",
        "\n",
        "# Data organization\n",
        "import pandas as pd\n",
        "import numpy as np\n",
        "\n",
        "# Data visualization\n",
        "import matplotlib\n",
        "import matplotlib.pyplot as plt\n",
        "from matplotlib.gridspec import GridSpec\n",
        "\n",
        "# Modeling\n",
        "from sklearn.metrics import mean_squared_error, r2_score\n",
        "from scipy.optimize import curve_fit\n",
        "from scipy import stats\n",
        "from scipy.stats import norm"
      ],
      "id": "WRU9uH3NshTC"
    },
    {
      "cell_type": "code",
      "execution_count": null,
      "metadata": {
        "id": "G8wBxFoDshTE"
      },
      "outputs": [],
      "source": [
        "def read_file_ntimes (file, ntimes):\n",
        "    \"\"\"\n",
        "    Funtion to read multiple sheets from an Excel file and organize them into a list of DataFrames.\n",
        "\n",
        "    Parameters:\n",
        "    file : str\n",
        "        The file path or name of the Excel file containing the data. The file should contain multiple sheets,\n",
        "        each representing consecutive time points (e.g., 0 hours, 24 hours, 48 hours).\n",
        "\n",
        "    ntimes : int\n",
        "        The number of sheets to read from the Excel file, representing different time points.\n",
        "\n",
        "    Expected Excel File Format:\n",
        "    - Each sheet in the file should have the following column structure:\n",
        "      - 1st column: \"Concentration\" in micromolar (µM).\n",
        "      - Columns 2 onward: Data for replicates of different experiments in the following sequence:\n",
        "        - Columns 2–4: Replicate 1, Replicate 2, Replicate 3 for Experiment 1.\n",
        "        - Columns 5–7: Replicate 1, Replicate 2, Replicate 3 for Experiment 2.\n",
        "        - Continue this pattern for additional experiments.\n",
        "\n",
        "    Returns:\n",
        "    list of pandas.DataFrame\n",
        "        A list containing DataFrames for each time point (sheet) in the Excel file.\n",
        "    \"\"\"\n",
        "\n",
        "    DF_list = list()\n",
        "    sheets = range(ntimes) # Reads the specified number of sheets\n",
        "\n",
        "    # Loop to process all sheets\n",
        "    for sheet in sheets:\n",
        "        print('sheet:', sheet)\n",
        "        df = pd.read_excel(file, sheet_name=sheet) ## selelct decimal (point decimal='.')\n",
        "        cols = df.columns\n",
        "        df.set_index(cols[0], inplace=True) # Set the first column (concentration) as the index\n",
        "        print('Data:\\n',df)\n",
        "        # Fill NaN values with the mean of replicates\n",
        "        df_filled = df.T.fillna(df.mean(axis=1)).T\n",
        "\n",
        "        # Add the processed DataFrame to the list\n",
        "        DF_list.append(df_filled)\n",
        "\n",
        "    return DF_list"
      ],
      "id": "G8wBxFoDshTE"
    },
    {
      "cell_type": "code",
      "execution_count": null,
      "metadata": {
        "id": "F7XoZo0xshTF"
      },
      "outputs": [],
      "source": [
        "def log_absorbance_data(dfs):\n",
        "    \"\"\"\n",
        "    Compute the logarithm of absorbance data for each experiment and time point.\n",
        "\n",
        "    Assumes columns for replicates are located consecutively for each experiment.\n",
        "    The total number of columns (excluding the concentration column) is:\n",
        "        Number of replicates × Number of experiments\n",
        "\n",
        "    Parameters:\n",
        "    dfs : list of pandas.DataFrame\n",
        "        A list of DataFrames, each representing data from a different time point. Each DataFrame should have:\n",
        "        - 1st column: \"Concentration\".\n",
        "        - Subsequent columns: Data for replicates of different experiments, with columns for replicates grouped together sequentially.\n",
        "\n",
        "    Returns:\n",
        "    tuple\n",
        "        - Concentr: A NumPy array of concentration values (extracted from the index of the DataFrames).\n",
        "        - logs_C_t: A 3D NumPy array with the logarithm of average absorbance values. The shape of the array is\n",
        "          (number of concentrations, number of time points, number of experiments).\n",
        "    \"\"\"\n",
        "\n",
        "    n_times = len(dfs) # Number of time points (DataFrames)\n",
        "    shape = dfs[0].shape\n",
        "    print('shape:', shape)\n",
        "    n_exp = shape[-1] # Number of experiments (assuming 3 replicates per experiment)\n",
        "\n",
        "    n_Conc = len(dfs[0].index) # Number of concentration levels\n",
        "    Concentr = dfs[0].index.values # Array of concentration values\n",
        "\n",
        "    print('n_times:', n_times, 'n_Conc:', n_Conc,'n_exp:', n_exp)\n",
        "\n",
        "    # Initialize the array to hold logarithmic values\n",
        "    logs_C_t = np.zeros((n_Conc, n_times, n_exp) )\n",
        "\n",
        "    for i_C in range(n_Conc):\n",
        "        for i_t in range(n_times):\n",
        "            logs_C_t[i_C, i_t] = np.log(dfs[i_t].iloc[i_C,:].values)\n",
        "\n",
        "    return Concentr, logs_C_t"
      ],
      "id": "F7XoZo0xshTF"
    },
    {
      "cell_type": "code",
      "execution_count": null,
      "metadata": {
        "id": "c-Lq7kxRshTF"
      },
      "outputs": [],
      "source": [
        "def f_lin(x, a, b):\n",
        "    \"\"\"\n",
        "    Computes a simple linear function.\n",
        "\n",
        "    Parameters:\n",
        "    x : float or np.ndarray\n",
        "        The input value or array of values.\n",
        "    a : float\n",
        "        Slope of the linear function.\n",
        "    b : float\n",
        "        Intercept of the linear function.\n",
        "\n",
        "    Returns:\n",
        "    float or np.ndarray\n",
        "        The computed value(s) of the linear function for the given input(s).\n",
        "    \"\"\"\n",
        "    return  a*x + b"
      ],
      "id": "c-Lq7kxRshTF"
    },
    {
      "cell_type": "code",
      "execution_count": null,
      "metadata": {
        "id": "6zCd5t1pshTG"
      },
      "outputs": [],
      "source": [
        "def calculate_growth_rate_bootstrap(X, y, n_boot, name, save=True):\n",
        "    \"\"\"\n",
        "    Calculates the growth rate using the Bootstrap method by resampling the data, fitting a linear model,\n",
        "    and averaging the results. The function also computes the 90% confidence interval for the growth rate.\n",
        "\n",
        "    Parameters:\n",
        "    X : array-like\n",
        "        Input values representing the independent variable (e.g., time).\n",
        "    y : array-like\n",
        "        Dependent variable values (e.g., growth measurements).\n",
        "    n_boot : int\n",
        "        Number of Bootstrap iterations.\n",
        "    name : str\n",
        "        Name used for saving the plot (if `save=True`).\n",
        "    save : bool, optional\n",
        "        Whether to save the resulting plot as a file. Defaults to False.\n",
        "\n",
        "    Returns:\n",
        "    tuple\n",
        "        - slope_mean: Mean of the growth rates obtained from Bootstrap iterations.\n",
        "        - Interv_A: 90% confidence interval for the growth rate.\n",
        "    \"\"\"\n",
        "\n",
        "    # Convert inputs to numpy arrays and flatten\n",
        "    X0=np.array(X).ravel()\n",
        "    y0=np.array(y).ravel()\n",
        "    print('X:',X0)\n",
        "    print('y:',y0)\n",
        "\n",
        "    n_samples=len(X0)\n",
        "    # print('n_samples:', n_samples)\n",
        "\n",
        "    # Initialize parameters for plotting and Bootstrap iterations\n",
        "    n_points = n_boot\n",
        "    n_param = 2  # Number of parameters for linear fit\n",
        "    alpha = 0.05  # For 95% confidence interval\n",
        "\n",
        "    # Create a figure with subplots for plotting\n",
        "    fig = plt.figure(figsize=(10,10))\n",
        "    gs = GridSpec(2, 2, figure=fig)\n",
        "    ax1 = fig.add_subplot(gs[0, :])\n",
        "    ax2 = fig.add_subplot(gs[1, 0])\n",
        "    ax3 = fig.add_subplot(gs[1, 1])\n",
        "\n",
        "    # Arrays to store results from Bootstrap iterations\n",
        "    y_hat_b = np.zeros((n_boot, n_samples), dtype=float) # Fitted values for each Bootstrap sample\n",
        "    params_b = np.zeros((n_boot, n_param), dtype=float) # Parameters for each Bootstrap fit\n",
        "    r2_b = np.zeros((n_boot), dtype = float)  # R^2 values for each fit\n",
        "\n",
        "    npoints_plot = 1000\n",
        "    X_plot = np.linspace(0,X0[-1],npoints_plot)\n",
        "\n",
        "    nfit=0\n",
        "    i_fit=0\n",
        "\n",
        "    for i in range(n_boot):\n",
        "        # Bootstrap: sample data with replacement\n",
        "        i_index = np.random.choice(range(0, len(X0)), len(X0))\n",
        "        X_boot = X0[i_index]\n",
        "        y_boot = y0[i_index]\n",
        "\n",
        "        try:\n",
        "            # Linear fit to the resampled data\n",
        "            popt_b, pcov_b = curve_fit(f_lin, X_boot, y_boot)\n",
        "\n",
        "            # Ensure parameters are within reasonable bounds\n",
        "            if (np.abs(popt_b)<10).all() and (np.sqrt(pcov_b[0][0])<10):\n",
        "                y_hat_i = f_lin(X_boot, *popt_b) # Predicted values for the resampled data\n",
        "                y_hat_b[i_fit,:] = y_hat_i\n",
        "                params_b[i_fit,:] = popt_b\n",
        "                r2_b[i_fit] = r2_score(y_boot, y_hat_i)\n",
        "\n",
        "                # Plot each fit line\n",
        "                y_plot = f_lin(X_plot, *popt_b)\n",
        "                ax1.plot(X_plot, y_plot, color='grey', alpha=0.1, zorder=1)\n",
        "                plt.scatter(X_boot, y_boot, marker='o', color='orange', zorder=1)\n",
        "\n",
        "                i_fit += 1\n",
        "\n",
        "        except Exception as e:\n",
        "            print(f'Error in curve_fit at iteration {i}: {e}')\n",
        "\n",
        "    nfit = i_fit\n",
        "    print('Number of successful fits:', nfit)\n",
        "\n",
        "    # Calculate mean slope and its standard error\n",
        "    params_mean = np.mean(params_b[:nfit,:], axis=0)\n",
        "    slope_mean = params_mean[0]\n",
        "\n",
        "    # Compute standard error of the slope\n",
        "    sum_res2 = np.sum((params_b[:nfit,0] - slope_mean)**2)\n",
        "    SE_A = np.sqrt(n_samples/(n_samples-1)) * np.sqrt( sum_res2 / (nfit-1))\n",
        "\n",
        "\n",
        "    #############\n",
        "    t = stats.t.ppf(0.95, n_samples-2) # Student's t-value for 90% confidence interval\n",
        "    ### Aquí se podría sustituir el 0.95 por 1-alpha (alpha lo he quitado de una celda de más abajo y lo he puesto en esta)\n",
        "    #############\n",
        "\n",
        "\n",
        "\n",
        "    Interv_A = t * SE_A\n",
        "    print('Mean slope:', slope_mean, '; 90% Confidence Interval:', Interv_A)\n",
        "\n",
        "    # Plot results\n",
        "    ymin_plot, ymax_plot = plt.ylim()\n",
        "    xmin_plot, xmax_plot = plt.xlim()\n",
        "    print('ymin', ymin_plot)\n",
        "    ax1.margins(0.01)\n",
        "\n",
        "    # Plot mean fit line and add legend\n",
        "    ax1.plot(X_plot, f_lin(X_plot, params_mean[0], params_mean[1]),'r', linewidth=4,\n",
        "             label=\"Slope={:.3f}; 90% CI ={:.3f}\".format(slope_mean, Interv_A))\n",
        "    ax1.set_xlabel('Time (days)')\n",
        "    ax1.set_ylabel('ln(N)')\n",
        "    ax1.set_title(f'Growth Rate ({name}) - Bootstrap Results')\n",
        "    ax1.grid(True)\n",
        "    ax1.legend()\n",
        "\n",
        "\n",
        "    n_bins=20\n",
        "\n",
        "    # Histogram of R^2 values\n",
        "    r2_plot = r2_b[:nfit].ravel()\n",
        "    print('r^2_min:', r2_plot.min(), ';   resid_max:',r2_plot.max())\n",
        "    ax2.hist(r2_plot, density=False, bins=n_bins, range=(r2_plot.min(), r2_plot.max()), histtype='barstacked', rwidth=0.8)\n",
        "    ax2.set_xlabel('r^2')\n",
        "\n",
        "    # Histogram of growth rates\n",
        "    #print('slopes:', params_b[:nfit,0])\n",
        "    ax3.hist(params_b[:nfit,0], bins=n_bins, range=(params_b[:nfit,0].min(), params_b[:nfit,0].max()), histtype='barstacked', rwidth=0.8)\n",
        "    ax3.set_xlim(( params_b[:nfit,0].min(), params_b[:nfit,0].max()))\n",
        "    ax3.set_xlabel('Growth rate')\n",
        "\n",
        "    # Fit and plot normal distribution for growth rates\n",
        "    mu, std = norm.fit(params_b[:nfit,0])\n",
        "    xmin, xmax =(params_b[:nfit,0].min(), params_b[:nfit,0].max())\n",
        "    print('xmin:', xmin, 'xmax:', xmax)\n",
        "    x_norm = np.linspace(xmin, xmax, 100)\n",
        "    p_norm = norm.pdf(x_norm, mu, std)\n",
        "\n",
        "    bin_width = np.ptp(params_b[:nfit,0]) / n_bins\n",
        "    print('mu:', mu, 'std:', std, 'bin_width:', bin_width)\n",
        "    ax3.plot(x_norm, p_norm * nfit * bin_width, 'k', linewidth=4)\n",
        "\n",
        "    if save:\n",
        "        filename = name + '_growth_rate.jpg'\n",
        "        plt.savefig(filename)\n",
        "        print('Figure saved as ', filename)\n",
        "\n",
        "\n",
        "#     plt.show()\n",
        "\n",
        "    return slope_mean, Interv_A"
      ],
      "id": "6zCd5t1pshTG"
    },
    {
      "cell_type": "code",
      "execution_count": null,
      "metadata": {
        "id": "DgIcRCwVshTH"
      },
      "outputs": [],
      "source": [
        "def export_growth_rates_to_excel(concentr, growth_rates, errors, name):\n",
        "    \"\"\"\n",
        "    Saves concentration, growth rates, and their errors to an Excel file.\n",
        "\n",
        "    Parameters:\n",
        "    concentr : array-like\n",
        "        Array of concentration values.\n",
        "    growth_rates : array-like\n",
        "        Array of growth rates corresponding to each concentration.\n",
        "    errors : array-like\n",
        "        Array of errors for the growth rates.\n",
        "    name : str\n",
        "        Base name for the output Excel file.\n",
        "\n",
        "    Returns:\n",
        "    None\n",
        "    \"\"\"\n",
        "\n",
        "    cols = ['Concentration', 'Growth Rate', 'Error']\n",
        "    data = np.zeros([len(concentr), 3])\n",
        "\n",
        "    for i_C in range(len(concentr)):\n",
        "        print(f'i: {i_C}, Concentration: {concentr[i_C]}, Growth Rate: {growth_rates[i_C]}, Error: {errors[i_C]}\\n\\n')\n",
        "\n",
        "        # Fill the data array\n",
        "        data[i_C] = [concentr[i_C], growth_rates[i_C], errors[i_C]]\n",
        "\n",
        "    # Create a DataFrame from the data\n",
        "    df_r_C = pd.DataFrame(data, columns=cols)\n",
        "    print('Data to be saved:', df_r_C)\n",
        "\n",
        "    # Save the DataFrame to an Excel file\n",
        "    filename = name + '_growth_rates.xlsx'\n",
        "    df_r_C.to_excel(filename)\n",
        "    print(f'Slopes and errors saved as {filename}')\n",
        "\n",
        "    return"
      ],
      "id": "DgIcRCwVshTH"
    },
    {
      "cell_type": "markdown",
      "metadata": {
        "id": "ajnGEBRMshTI"
      },
      "source": [
        "## Data Processing and Analysis"
      ],
      "id": "ajnGEBRMshTI"
    },
    {
      "cell_type": "code",
      "execution_count": null,
      "metadata": {
        "id": "KJTVTnTVshTL"
      },
      "outputs": [],
      "source": [
        "n_times = int(n_sheets)\n",
        "# Read data from the file\n",
        "dfs = read_file_ntimes(filename, n_times)"
      ],
      "id": "KJTVTnTVshTL"
    },
    {
      "cell_type": "code",
      "execution_count": null,
      "metadata": {
        "id": "CUei46YjshTM"
      },
      "outputs": [],
      "source": [
        "# Calculate the natural log of the mean values and errors\n",
        "\n",
        "\n",
        "# Number of experiments and replicas\n",
        "n_exp = len(dfs[0].columns)\n",
        "n_rep = 1\n",
        "\n",
        "# Get the concentration values and log-transformed growth measurements\n",
        "concentr, logs_C_t = log_absorbance_data(dfs)"
      ],
      "id": "CUei46YjshTM"
    },
    {
      "cell_type": "markdown",
      "metadata": {
        "id": "4Omi2HnlshTN"
      },
      "source": [
        "## Plotting Results"
      ],
      "id": "4Omi2HnlshTN"
    },
    {
      "cell_type": "code",
      "execution_count": null,
      "metadata": {
        "scrolled": false,
        "id": "9QkdaLPQshTO"
      },
      "outputs": [],
      "source": [
        "# Create a time array for plotting\n",
        "time = [i for i in range(n_times) for _ in range(n_exp)]\n",
        "X = np.array(time).reshape(-1, 1)\n",
        "\n",
        "n_boot = 1000  # Number of bootstrap iterations\n",
        "\n",
        "name = filename[:-5]\n",
        "slopes=[]\n",
        "err_slopes=[]\n",
        "for i_C in range(len(concentr)):\n",
        "    print('i_c:', i_C,'Concentr:',concentr[i_C])\n",
        "    y = logs_C_t[i_C]\n",
        "\n",
        "    concent_str = str(np.round(concentr[i_C], 2))\n",
        "    name_C = name + '_C'+ concent_str.replace('.','p')\n",
        "    print(name_C)\n",
        "\n",
        "    # Calculate slope and error using bootstrap\n",
        "    slope_i, error_slope_i = calculate_growth_rate_bootstrap(X, y, n_boot,  name_C, True)\n",
        "\n",
        "    slopes.append(slope_i)\n",
        "    err_slopes.append(error_slope_i)\n",
        "\n",
        "# Save the results to an Excel file\n",
        "export_growth_rates_to_excel(concentr, slopes, err_slopes, name)"
      ],
      "id": "9QkdaLPQshTO"
    },
    {
      "cell_type": "code",
      "source": [],
      "metadata": {
        "id": "YHiPUTur14RT"
      },
      "id": "YHiPUTur14RT",
      "execution_count": null,
      "outputs": []
    }
  ],
  "metadata": {
    "kernelspec": {
      "display_name": "Python 3",
      "language": "python",
      "name": "python3"
    },
    "language_info": {
      "codemirror_mode": {
        "name": "ipython",
        "version": 3
      },
      "file_extension": ".py",
      "mimetype": "text/x-python",
      "name": "python",
      "nbconvert_exporter": "python",
      "pygments_lexer": "ipython3",
      "version": "3.8.5"
    },
    "colab": {
      "provenance": [],
      "include_colab_link": true
    }
  },
  "nbformat": 4,
  "nbformat_minor": 5
}