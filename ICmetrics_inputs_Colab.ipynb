{
  "cells": [
    {
      "cell_type": "markdown",
      "metadata": {
        "id": "view-in-github",
        "colab_type": "text"
      },
      "source": [
        "<a href=\"https://colab.research.google.com/github/JuanmaPastor/CSC_IC50/blob/main/ICmetrics_inputs_Colab.ipynb\" target=\"_parent\"><img src=\"https://colab.research.google.com/assets/colab-badge.svg\" alt=\"Open In Colab\"/></a>"
      ]
    },
    {
      "cell_type": "code",
      "source": [
        "from google.colab import drive ##\n",
        "drive.mount('/content/drive')  ## Choose the Google account whose Drive you want to mount --> \"Sign in to Google Drive for desktop\" --> \"Make sure you trust Google Drive for desktop\" (you must allow Google Drive to access your data for use in the program)\n",
        "%cd 'drive/MyDrive/Colab Notebooks'"
      ],
      "metadata": {
        "id": "bn28vdJ7B1VN"
      },
      "id": "bn28vdJ7B1VN",
      "execution_count": null,
      "outputs": []
    },
    {
      "cell_type": "markdown",
      "source": [],
      "metadata": {
        "id": "ubwOnUXDI8Gq"
      },
      "id": "ubwOnUXDI8Gq"
    },
    {
      "cell_type": "markdown",
      "source": [
        "## If you want to upload a file, execute the following cell"
      ],
      "metadata": {
        "id": "yorXN9L0Go5B"
      },
      "id": "yorXN9L0Go5B"
    },
    {
      "cell_type": "code",
      "source": [
        "### Execute this cell only if you want to upload a file\n",
        "from google.colab import files\n",
        "uploaded = files.upload()\n"
      ],
      "metadata": {
        "id": "IXcYSjmwB3GR"
      },
      "id": "IXcYSjmwB3GR",
      "execution_count": null,
      "outputs": []
    },
    {
      "cell_type": "code",
      "source": [
        "%ls ## check that your data file is located in this directory"
      ],
      "metadata": {
        "collapsed": true,
        "id": "gjfnyCH2B_4B"
      },
      "id": "gjfnyCH2B_4B",
      "execution_count": null,
      "outputs": []
    },
    {
      "cell_type": "code",
      "execution_count": null,
      "metadata": {
        "id": "oGdiPLitBsMs"
      },
      "outputs": [],
      "source": [
        "filename = input(\"Excel filename:\")"
      ],
      "id": "oGdiPLitBsMs"
    },
    {
      "cell_type": "code",
      "execution_count": null,
      "metadata": {
        "id": "cXHo1TRwBsMt"
      },
      "outputs": [],
      "source": [
        "n_times_str= input(\"Number of time points:\")"
      ],
      "id": "cXHo1TRwBsMt"
    },
    {
      "cell_type": "code",
      "execution_count": null,
      "metadata": {
        "id": "Jdt-TyYTBsMt"
      },
      "outputs": [],
      "source": [
        "n_exp_str = input(\"Number of experiments per time point:\")"
      ],
      "id": "Jdt-TyYTBsMt"
    },
    {
      "cell_type": "code",
      "execution_count": null,
      "metadata": {
        "id": "ASf4chrIBsMu"
      },
      "outputs": [],
      "source": [
        "time_IC50_str = input(\"Time point for IC50 calculation:\")"
      ],
      "id": "ASf4chrIBsMu"
    },
    {
      "cell_type": "markdown",
      "source": [
        "## [Now from \"Runtime\" menu you can select \"*Run cell and below*\"]\n",
        "\n",
        "\n"
      ],
      "metadata": {
        "id": "PB7NqRF2FhP8"
      },
      "id": "PB7NqRF2FhP8"
    },
    {
      "cell_type": "markdown",
      "metadata": {
        "id": "zq0pWzcuBsMl"
      },
      "source": [
        "# IC50, ICr0, ICrmed Estimation via Bootstrapping and MC Techniques\n",
        "\n",
        "By Juan Manuel Pastor Ruiz and Paula Romero Jiménez\n",
        "\n",
        "Date: September 2024\n",
        "\n",
        "## Overview\n",
        "\n",
        "This script uses a robust statistical approach involving bootstrapping and Monte Carlo simulations to estimate key parameters like IC50, ICr0, and ICrmed from biological data. The resampling is done under the assumption of a normal distribution for error propagation, ensuring more accurate confidence intervals and insights into variability.\n",
        "\n",
        "It builds on the previous data obtained in `growth_rate_bootstrapping.ipynb`. This is an Excel file with the concentration data, calculated growth rates and their errors."
      ],
      "id": "zq0pWzcuBsMl"
    },
    {
      "cell_type": "markdown",
      "metadata": {
        "id": "BNIEpCLZBsMm"
      },
      "source": [
        "## Table of Contents\n",
        "1. [Import Libraries](##import-libraries)\n",
        "2. [Model Background](##model-background)\n",
        "3. [Define Functions](##define-functions)\n",
        "4. [Usage](##usage)"
      ],
      "id": "BNIEpCLZBsMm"
    },
    {
      "cell_type": "markdown",
      "metadata": {
        "id": "fT4uH2hnBsMn"
      },
      "source": [
        "## 1. Import Libraries"
      ],
      "id": "fT4uH2hnBsMn"
    },
    {
      "cell_type": "code",
      "execution_count": null,
      "metadata": {
        "id": "FQa40K5bBsMn"
      },
      "outputs": [],
      "source": [
        "# Import necessary libraries\n",
        "\n",
        "# Data organization\n",
        "import pandas as pd\n",
        "import numpy as np\n",
        "\n",
        "# Data visualization\n",
        "import matplotlib\n",
        "import matplotlib.pyplot as plt\n",
        "from matplotlib.gridspec import GridSpec\n",
        "\n",
        "# Modeling\n",
        "from sklearn.metrics import r2_score\n",
        "from scipy.optimize import curve_fit\n",
        "from scipy import stats"
      ],
      "id": "FQa40K5bBsMn"
    },
    {
      "cell_type": "markdown",
      "metadata": {
        "id": "HhJo1mh_BsMo"
      },
      "source": [
        "## 2. Model Background\n",
        "\n",
        "We are modeling the growth rate as a function of drug concentration, assuming an exponential decay in the growth rate with increasing concentration.\n",
        "\n",
        "### Exponential Decay of Growth Rate:\n",
        "\n",
        "The growth rate, $r_q(C)$, at a given concentration $C$, can be modeled as an exponential function:\n",
        "\n",
        "$$r_q(C) =  A·e^{-\\alpha C} - r_{\\infty} \\;\\; (Eq.1)$$\n",
        "\n",
        "where:\n",
        "\n",
        "- $r_{\\infty}$ is the growth rate at infinite drug concentration (a positive constant)\n",
        "- $A$ is an amplitude term related to the initial growth rate at zero concentration\n",
        "- $\\infty$ is the decay rate of the growth rate as the concentration increases\n",
        "\n",
        "For concentration $C = 0$, the growth rate is:\n",
        "\n",
        "$$r_q(C = 0) = r_{Control} = r_{C0} = A - r_{\\infty}$$\n",
        "\n",
        "which gives:\n",
        "$$A = r_{C0} + r_{\\infty}$$\n",
        "\n",
        "Substituting this into the equation for $r_q(C)$, we obtain:\n",
        "\n",
        "$$r_q(C) =  (r_{C0}+r_{\\infty})·e^{-\\alpha C} - r_{\\infty} \\;\\; (Eq.2) $$\n",
        "\n",
        "\n",
        "### To calculate IC50:\n",
        "\n",
        "The IC50 value is the drug concentration at which the viability is 50%. Viability is calculated from the growth rate using the following equation:\n",
        "\n",
        "$$V(t)=\\frac{N_q (t)}{N_0 (t)} = \\frac{N_{0}'}{N_0}e^{(r_{q} - r_{C0})·t}$$\n",
        "\n",
        "where:\n",
        "- $N_q(t)$ is the population size at concentration C\n",
        "- $N_0(t)$ is the control population size\n",
        "- $r_{q}$ is the growth rate at concentration C\n",
        "- $r_{C0}$ is the control growth rate (without the drug)\n",
        "- $t$ is the time.\n",
        "\n",
        "For a viability $V(t) = 0.5$ (which corresponds to IC50):\n",
        "\n",
        "$$V_{IC50}(t) = 0.5 = \\frac{N_0'}{N_0}e^{(r_{IC50} - r_{C0})·t} \\;\\; (Eq.3) $$\n",
        "\n",
        "then:\n",
        "\n",
        "$$r_{IC50} = r_{C0}+\\frac{ln(0.5)-ln(N_0'/N_0)}{t}$$\n",
        "\n",
        "From Eq(2), we can express the concentration at IC50:\n",
        "\n",
        "$$C(IC50) = \\frac{-1}{\\alpha} ln \\left(\\frac{r_{IC50} + r_{\\infty}}{r_{C0} + r_{\\infty}} \\right)$$\n",
        "\n",
        "Using the fit parameters from the model:\n",
        "\n",
        "$$C(IC50) = \\frac{-1}{b_{fit}} ln \\left(\\frac{r_{IC50} + c_{fit}}{a_{fit}} \\right)$$\n",
        "\n",
        "### To calculate ICr0:\n",
        "\n",
        "The ICr0 (or IC(r=0)) is the drug concentration at which the growth rate becomes zero, meaning that the population stops growing completely.\n",
        "\n",
        "To calculate the drug concentration at which the growth rate is zero, we set $r=0$ in Eq(2):\n",
        "\n",
        "$$0 = (r_{C0}+r_{\\infty})e^{-\\alpha C(r=0)} - r_{\\infty}$$\n",
        "\n",
        "$$C(r=0)=\\frac{-1}{\\alpha}ln \\left(\\frac{r_{\\infty}}{r_{C0}+r_{\\infty}} \\right) $$\n",
        "\n"
      ],
      "id": "HhJo1mh_BsMo"
    },
    {
      "cell_type": "markdown",
      "metadata": {
        "id": "_hqI_jiXBsMp"
      },
      "source": [
        "## 3. Define Functions"
      ],
      "id": "_hqI_jiXBsMp"
    },
    {
      "cell_type": "markdown",
      "metadata": {
        "id": "e2OVzxITBsMp"
      },
      "source": [
        "`f_exponen_shift`: Exponential function used for curve fitting."
      ],
      "id": "e2OVzxITBsMp"
    },
    {
      "cell_type": "code",
      "execution_count": null,
      "metadata": {
        "id": "UljnFuz-BsMq"
      },
      "outputs": [],
      "source": [
        "def f_exponen_shift(x, a, b, c):\n",
        "    \"\"\"\n",
        "    Negative exponential function of the form : y = a * exp(-b * x) - c\n",
        "\n",
        "    Parameters:\n",
        "    x : input value\n",
        "    a, b, c : parameters of the exponential function (c > 0)\n",
        "\n",
        "    Returns:\n",
        "    The value of the exponential function evaluated at x\n",
        "    \"\"\"\n",
        "    return a * np.exp(-b * x) - c"
      ],
      "id": "UljnFuz-BsMq"
    },
    {
      "cell_type": "markdown",
      "metadata": {
        "id": "50uQStYGBsMq"
      },
      "source": [
        "`f_exponen_shift_inv`: Inverse exponential function used to estimate IC50."
      ],
      "id": "50uQStYGBsMq"
    },
    {
      "cell_type": "code",
      "execution_count": null,
      "metadata": {
        "id": "5Ui_DbfGBsMr"
      },
      "outputs": [],
      "source": [
        "def f_exponen_shift_inv(y, a, b, c):\n",
        "    \"\"\"\n",
        "    Inverse of the negative exponential function of the form: y = a * exp(-b * x) - c\n",
        "    Rearranged form: x = -1/b * ln((y + c)/a)\n",
        "\n",
        "    Parameters:\n",
        "    y : input value\n",
        "    a, b, c : parameters of the exponential function (c > 0)\n",
        "\n",
        "    Returns:\n",
        "    The value of x that corresponds to a given y in the exponential function.\n",
        "    \"\"\"\n",
        "    if (y+c)/a >0:\n",
        "        return -1./b * np.log( (y+c)/a )\n",
        "    else:\n",
        "        return 1e10"
      ],
      "id": "5Ui_DbfGBsMr"
    },
    {
      "cell_type": "markdown",
      "metadata": {
        "id": "ftuXT-4vBsMr"
      },
      "source": [
        "`ICmetrics_estimation`: This function calculates key metrics like IC50, ICr0, and ICrmed using a Bootstrap Monte Carlo approach, where values are randomly sampled from a normal distribution, and an exponential model is fitted.\n",
        "\n",
        "- IC50: The concentration of a drug where the response (e.g., growth rate) is reduced by 50% compared to the control.\n",
        "- ICr0: The concentration where the growth rate drops to zero.\n",
        "- ICrmed: The concentration where the growth rate is halved compared to the control.\n",
        "\n",
        "The function iterates by randomly selecting values within the range of ymin to ymax for each concentration, fits a shifted decreasing exponential to the data, and averages the results."
      ],
      "id": "ftuXT-4vBsMr"
    },
    {
      "cell_type": "code",
      "execution_count": null,
      "metadata": {
        "id": "cXNWPSHkBsMr"
      },
      "outputs": [],
      "source": [
        "def ICmetrics_estimation(X, y, error_y, n_boot, n_samples_fit_r, t_IC50, name, save=False):\n",
        "    \"\"\"\n",
        "    Estimates IC50, ICr0, and ICrmed using a Bootstrap approach with a normal distribution for error resampling.\n",
        "\n",
        "    Parameters:\n",
        "    - X: Array of drug concentrations.\n",
        "    - y: Array of growth rates at corresponding concentrations.\n",
        "    - error_y: Array of errors in growth rates (standard deviations).\n",
        "    - n_boot: Number of bootstrap iterations.\n",
        "    - n_samples_fit_r: Number of samples used to calculate the t-statistic for confidence intervals.\n",
        "    - t_IC50: Time point used to compute the IC50.\n",
        "    - name: File name for saving the plot (if save=True).\n",
        "    - save: Whether to save the resulting plot (default is False).\n",
        "\n",
        "    Returns:\n",
        "    - IC50_mean: Mean IC50 value across bootstrap samples.\n",
        "    - IC50_interval: Confidence interval for IC50.\n",
        "    - ICr0_mean: Mean ICr0 value across bootstrap samples.\n",
        "    - ICr0_interval: Confidence interval for ICr0.\n",
        "    - ICrmed_mean: Mean ICrmed value across bootstrap samples.\n",
        "    - ICrmed_interval: Confidence interval for ICrmed.\n",
        "    \"\"\"\n",
        "\n",
        "    # Ensure inputs are numpy arrays\n",
        "    X = np.array(X).ravel()\n",
        "    y = np.array(y).ravel()\n",
        "    e = np.array(error_y).ravel()\n",
        "    print('y',y)\n",
        "\n",
        "    # Compute key points fro the metrics: r_IC50 and rmed\n",
        "    r_IC50 = y[0]+np.log(0.5)/t_IC50\n",
        "    rmed = y[0]/2.\n",
        "    print('r_IC50:', r_IC50, 'r[0]:', y[0], 'rmed:', rmed)\n",
        "\n",
        "    # Calculate standard errors using t-distribution\n",
        "    alpha = 0.05\n",
        "    t = stats.t.ppf(1-alpha, n_samples_fit_r-2)\n",
        "    e_std = e/t\n",
        "    print('t:',t, 'e_std:', e_std)\n",
        "\n",
        "    # Initialize arrays to store results from each bootstrap iteration\n",
        "    n_samples = len(X)\n",
        "    npoints_plot = 1000\n",
        "\n",
        "    n_param = 3  # for exponential fit parameters (A, B, C)\n",
        "    y_hat_b = np.zeros((n_boot, n_samples), dtype=float)\n",
        "    y_plot_b = np.zeros((n_boot, npoints_plot), dtype=float)\n",
        "    params_b = np.zeros((n_boot, n_param), dtype=float)\n",
        "    IC50inv_b = np.zeros((n_boot), dtype = float)\n",
        "    ICr0inv_b = np.zeros((n_boot), dtype = float)\n",
        "    ICrmedinv_b = np.zeros((n_boot), dtype = float)\n",
        "    r2_b = np.zeros((n_boot), dtype = float)\n",
        "\n",
        "    # Set up figure for plotting\n",
        "    fig = plt.figure(figsize=(18,18))\n",
        "    gs = GridSpec(2, 2, figure=fig)\n",
        "    ax1 = fig.add_subplot(gs[0, :])\n",
        "    ax2 = fig.add_subplot(gs[1, 0])\n",
        "    ax3 = fig.add_subplot(gs[1, 1])\n",
        "\n",
        "    # Prepare points for plotting the fitted curve\n",
        "    X_plot = np.linspace(0, X[-1], npoints_plot)\n",
        "\n",
        "    # Iterate through bootstrap samples\n",
        "    i_fit=0\n",
        "    for i_b in range(n_boot):\n",
        "        # Generate bootstrap sample by resampling the growth rates with normal error\n",
        "        y_boot = []\n",
        "        for j in range(len(X)):\n",
        "            y_j = np.random.normal(y[j],e_std[j], 1)[0]\n",
        "            y_boot.append(y_j)\n",
        "\n",
        "        try:\n",
        "            # Fit the shifted exponential model: A * exp(-B * X) - C\n",
        "            popt_b, pcov_b = curve_fit(f_exponen_shift, X, y_boot, bounds=(0, [10,10,10]))\n",
        "            y_hat_i = f_exponen_shift(X, *popt_b) # Predicted values for the bootstrap fit\n",
        "\n",
        "            # Residual check and parameter validation\n",
        "            res_b = y_boot - y_hat_i\n",
        "            sum_resid = np.abs(res_b).sum()\n",
        "            all_lt_10 = (np.abs(popt_b)<10).all() and (np.sqrt(pcov_b[2][2])<10) # Parameter check\n",
        "\n",
        "            if (all_lt_10) and (sum_resid<10):\n",
        "                # Calculate inverse function\n",
        "                IC50inv_b[i_fit] = f_exponen_shift_inv(r_IC50, *popt_b)\n",
        "                ICr0inv_b[i_fit] = f_exponen_shift_inv(0.0, *popt_b)\n",
        "                ICrmedinv_b[i_fit] = f_exponen_shift_inv(rmed, *popt_b)\n",
        "                r2_b[i_fit] = r2_score(y_boot, y_hat_i)\n",
        "                y_hat_b[i_fit,:] = y_hat_i\n",
        "\n",
        "                if (IC50inv_b[i_fit]<100) and (ICr0inv_b[i_fit]<100) and (ICrmedinv_b[i_fit]<100):\n",
        "                    params_b[i_fit,:] = popt_b[:]\n",
        "                    # Plot the current fit (light grey) and scatter the bootstrapped data points\n",
        "                    y_plot = f_exponen_shift( X_plot, *popt_b)\n",
        "                    y_plot_b[i_fit,:] = y_plot\n",
        "                    ax1.plot(X_plot, y_plot, color='grey', alpha=0.1, zorder=1)\n",
        "                    ax1.scatter(X, y_boot, marker='o', alpha = 0.1, color='orange', zorder=2)\n",
        "\n",
        "                i_fit += 1\n",
        "                if (i_b % 100 == 0):\n",
        "                    print('fit OK, i_b',i_b, ', i_fit:', i_fit)\n",
        "\n",
        "            else:\n",
        "                print('\\n\\n\\nWarning: High residuals or large parameters! Sum:', np.abs(res_b).sum(), '\\n\\n\\n')\n",
        "        except RuntimeError:\n",
        "            # In case curve fitting fails, skip to the next iteration\n",
        "            pass\n",
        "\n",
        "    nfit = i_fit\n",
        "\n",
        "    # Compute means and intervals for IC metrics\n",
        "    params_mean = np.mean(params_b[:nfit,:], axis=0)\n",
        "    IC50inv_mean = np.mean(IC50inv_b[:nfit])\n",
        "    ICr0inv_mean = np.mean(ICr0inv_b[:nfit])\n",
        "    ICrmedinv_mean = np.mean(ICrmedinv_b[:nfit])\n",
        "\n",
        "    # Compute confidence intervals for IC values\n",
        "    sum_res2_IC50inv = np.sum((IC50inv_b[:nfit] - IC50inv_mean)**2)\n",
        "    sum_res2_ICr0inv = np.sum((ICr0inv_b[:nfit] - ICr0inv_mean)**2)\n",
        "    sum_res2_ICrmedinv = np.sum((ICrmedinv_b[:nfit] - ICrmedinv_mean)**2)\n",
        "\n",
        "    SE_IC50inv = np.sqrt(n_samples/(n_samples-1)) * np.sqrt( sum_res2_IC50inv / (nfit-1)) # 2 degrees of freedom\n",
        "    SE_ICr0inv = np.sqrt(n_samples/(n_samples-1)) * np.sqrt( sum_res2_ICr0inv / (nfit-1)) # 2 degrees of freedom\n",
        "    SE_ICrmedinv = np.sqrt(n_samples/(n_samples-1)) * np.sqrt( sum_res2_ICrmedinv / (nfit-1)) ## 2 degrees of freedom\n",
        "\n",
        "    # Calculate the confidence intervals\n",
        "    t = stats.t.ppf(1-alpha, n_samples-1)\n",
        "    Interv_IC50inv = t * SE_IC50inv\n",
        "    Interv_ICr0inv = t * SE_ICr0inv\n",
        "    Interv_ICrmedinv = t * SE_ICrmedinv\n",
        "\n",
        "    print('r[0]:', y[0], ',  r_IC50:', r_IC50, ';  rmed:', rmed)\n",
        "\n",
        "    print('IC50inv_mean:',IC50inv_mean, 'SE_IC50inv:', SE_IC50inv, 'Interval:', Interv_IC50inv)\n",
        "    print('ICr0inv_mean:',ICr0inv_mean, 'SE_ICr0inv:', SE_ICr0inv, 'Interval:', Interv_ICr0inv)\n",
        "    print('ICrmedinv_mean:',ICrmedinv_mean, 'SE_ICrmedinv:', SE_ICrmedinv, 'Interval:', Interv_ICrmedinv)\n",
        "\n",
        "    ymin_plot, ymax_plot = ax1.get_ylim()\n",
        "    xmin_plot, xmax_plot = ax1.get_xlim()\n",
        "    ax1.margins(0.01)\n",
        "\n",
        "    # Plot the average fit and indicate key metrics on the plot\n",
        "    yhat_mean = np.mean(y_hat_b, axis=0)\n",
        "    yplot_mean = np.mean(y_plot_b, axis=0)\n",
        "    ax1.plot(X_plot, yplot_mean, color='red', label='average_fit')\n",
        "\n",
        "    yfit_mean = f_exponen_shift(X_plot, params_mean[0], params_mean[1], params_mean[2])\n",
        "#     ax1.plot(X_plot, yfit_mean, color='green', label='average_params')\n",
        "\n",
        "    # Plot IC50, ICr0, and ICrmed\n",
        "    label_IC50 = f'IC50:{IC50inv_mean:.1f}, error:{Interv_IC50inv:.1f} (r_IC50:{r_IC50:.2f})'\n",
        "    ax1.hlines(y=0, xmin=xmin_plot, xmax=xmax_plot, colors='black')\n",
        "    ax1.plot([IC50inv_mean, IC50inv_mean], [ymin_plot, r_IC50], 'b:', linewidth=3, label=label_IC50) ##vertical\n",
        "    ax1.plot([xmin_plot, IC50inv_mean], [r_IC50, r_IC50], 'k:', linewidth=3) ##horizontal\n",
        "\n",
        "    label_ICrmed = f'ICrmed:{ICrmedinv_mean:.1f}, error:{Interv_ICrmedinv:.1f} (rmed:{rmed:.2f})'\n",
        "    ax1.plot([ICrmedinv_mean, ICrmedinv_mean], [ymin_plot, rmed], 'm-.' , linewidth=3, label=label_ICrmed) ##vertical\n",
        "    ax1.plot([xmin_plot, ICrmedinv_mean], [rmed, rmed], 'm-.', linewidth=3) ##horizontal\n",
        "\n",
        "    label_ICr0 =f'ICr0:{ICr0inv_mean:.1f}, error:{Interv_ICr0inv:.1f}'\n",
        "    ax1.plot([ICr0inv_mean, ICr0inv_mean], [ymin_plot, 0], 'g--', linewidth=3, label=label_ICr0) ##vertical\n",
        "    ax1.plot([xmin_plot, ICr0inv_mean], [0,0],  'g--', linewidth=3) ##horizontal\n",
        "\n",
        "    ax1.set_xlabel('Cisplatin concentration (uM)')\n",
        "    ax1.set_ylabel('Growth rate (r)')\n",
        "    ax1.set_title(f'IC50_boot_MC_norm (file: {name}); t:{t_IC50}; n_boot (MC): {n_boot} ')\n",
        "    ax1.grid(True)\n",
        "    ax1.legend(loc='best')\n",
        "\n",
        "    # Statistics histogram\n",
        "    n_bins=20\n",
        "    r2_plot = r2_b[:nfit].ravel()\n",
        "\n",
        "    # Plot R2 distribution\n",
        "    ax2.hist(r2_plot, density=False, bins=n_bins, range=(r2_plot.min(), r2_plot.max()),histtype='barstacked', rwidth=0.8)\n",
        "    ax2.set_title('r^2 distribution')\n",
        "\n",
        "    # Plot IC50 distribution\n",
        "    ax3.hist(IC50inv_b[:nfit], bins=n_bins, range=(IC50inv_b.min(), IC50inv_b.max()), histtype='barstacked', rwidth=0.8)\n",
        "    ax3.set_title('IC50 distribution')\n",
        "\n",
        "    # Save the plot if requested\n",
        "    if save:\n",
        "        filename = name + '_IC_metrics.jpg'\n",
        "        plt.savefig(filename)\n",
        "\n",
        "    plt.show()\n",
        "\n",
        "    # Return the calculated mean IC values and their confidence intervals\n",
        "    return (IC50inv_mean, Interv_IC50inv, ICr0inv_mean, Interv_ICr0inv, ICrmedinv_mean, Interv_ICrmedinv)"
      ],
      "id": "cXNWPSHkBsMr"
    },
    {
      "cell_type": "markdown",
      "metadata": {
        "id": "xMdOPLsTBsMs"
      },
      "source": [
        "## 4. Usage"
      ],
      "id": "xMdOPLsTBsMs"
    },
    {
      "cell_type": "markdown",
      "metadata": {
        "id": "_p9pe-uZBsMs"
      },
      "source": [
        "### Load data"
      ],
      "id": "_p9pe-uZBsMs"
    },
    {
      "cell_type": "code",
      "execution_count": null,
      "metadata": {
        "id": "mzaFgHxqBsMt"
      },
      "outputs": [],
      "source": [
        "# Load an Excel file that contains the concentration (X0), growth rates (y0), and the associated errors (e).\n",
        "name = filename.split('.')[0]\n",
        "\n",
        "\n",
        "df = pd.read_excel(filename)\n",
        "X0 = df['Concentration']\n",
        "y0 = df['Growth Rate']\n",
        "e = df['Error']"
      ],
      "id": "mzaFgHxqBsMt"
    },
    {
      "cell_type": "code",
      "execution_count": null,
      "metadata": {
        "id": "bAfBtDuzBsMt"
      },
      "outputs": [],
      "source": [
        "df.head(10)"
      ],
      "id": "bAfBtDuzBsMt"
    },
    {
      "cell_type": "markdown",
      "metadata": {
        "id": "G_j-qhyeBsMt"
      },
      "source": [
        "### Set parameters for Bootstrapping and Fitting"
      ],
      "id": "G_j-qhyeBsMt"
    },
    {
      "cell_type": "code",
      "execution_count": null,
      "metadata": {
        "id": "yF92RmrVBsMu"
      },
      "outputs": [],
      "source": [
        "time_IC50 = float(time_IC50_str)\n",
        "n_times = int(n_times_str)\n",
        "n_exp = int(n_exp_str)\n",
        "\n",
        "n_samples_fit_r = n_times * n_exp  # Total number of samples used for the fit\n",
        "\n",
        "n_boot = 1000   # Number of bootstrap iterations"
      ],
      "id": "yF92RmrVBsMu"
    },
    {
      "cell_type": "markdown",
      "metadata": {
        "id": "l4fqfGKpBsMu"
      },
      "source": [
        "### Run Bootstrapping to Estimate IC Values"
      ],
      "id": "l4fqfGKpBsMu"
    },
    {
      "cell_type": "code",
      "execution_count": null,
      "metadata": {
        "scrolled": false,
        "id": "wDI8tI9wBsMu"
      },
      "outputs": [],
      "source": [
        "IC50inv_mean, Interv_IC50inv, ICr0inv_mean, Interv_ICr0inv, ICrmedinv_mean, Interv_ICrmedinv = \\\n",
        "    ICmetrics_estimation(X0,y0, e, n_boot, n_samples_fit_r, time_IC50, name, save=True)"
      ],
      "id": "wDI8tI9wBsMu"
    },
    {
      "cell_type": "code",
      "execution_count": null,
      "metadata": {
        "id": "ClsNyQmJBsMu"
      },
      "outputs": [],
      "source": [],
      "id": "ClsNyQmJBsMu"
    }
  ],
  "metadata": {
    "kernelspec": {
      "display_name": "Python 3",
      "language": "python",
      "name": "python3"
    },
    "language_info": {
      "codemirror_mode": {
        "name": "ipython",
        "version": 3
      },
      "file_extension": ".py",
      "mimetype": "text/x-python",
      "name": "python",
      "nbconvert_exporter": "python",
      "pygments_lexer": "ipython3",
      "version": "3.8.5"
    },
    "colab": {
      "provenance": [],
      "include_colab_link": true
    }
  },
  "nbformat": 4,
  "nbformat_minor": 5
}